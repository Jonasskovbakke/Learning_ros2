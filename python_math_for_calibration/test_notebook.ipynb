{
 "cells": [
  {
   "cell_type": "code",
   "execution_count": 17,
   "metadata": {},
   "outputs": [
    {
     "name": "stdout",
     "output_type": "stream",
     "text": [
      "[[ 0.19238908  0.107506   -0.02797344  1.0075596 ]\n",
      " [-0.48591545  0.87013586 -0.06533777 -0.30054063]\n",
      " [-0.25966232  0.04659522  0.11056322 -0.8756104 ]\n",
      " [ 0.          0.          0.          1.        ]]\n",
      "[[-0.29753744 -0.30852467  0.45934266  0.63311599]\n",
      " [-0.52125784  0.17545602 -1.0058212  -0.75099381]\n",
      " [-0.52940496 -1.36634868  0.63742295 -0.5710629 ]\n",
      " [ 1.          1.          1.          1.        ]]\n",
      "[[ 0.90908758  1.00528687  0.96996939  1.06460246]\n",
      " [-0.5749376   0.09132102 -1.44059122 -1.22433614]\n",
      " [-0.88117198 -0.93839066 -0.97127531 -1.13813804]\n",
      " [ 1.          1.          1.          1.        ]]\n"
     ]
    },
    {
     "name": "stderr",
     "output_type": "stream",
     "text": [
      "/tmp/ipykernel_107867/1889563403.py:17: FutureWarning: `rcond` parameter will change to the default of machine precision times ``max(M, N)`` where M and N are the input matrix dimensions.\n",
      "To use the future default and silence this warning we advise to pass `rcond=None`, to keep using the old, explicitly pass `rcond=-1`.\n",
      "  M_rec,resid,rank,sing = np.linalg.lstsq(s.T,d.T)\n"
     ]
    }
   ],
   "source": [
    "import numpy as np\n",
    "\n",
    "# set up\n",
    "\n",
    "# create example affine trafo in homogeneous coordinates\n",
    "M = np.r_[np.random.normal(size=(3,4)),[[0,0,0,1]]]\n",
    "n = 4 # or more\n",
    "# create n points as the columns of s\n",
    "# note that homogeneous coordinates have a \"dummy\" 1, not 0, as last element\n",
    "s = np.r_[np.random.normal(size=(3,n)),np.ones((1,n))]\n",
    "# apply trafo, transformed points are the columns of d\n",
    "d = M@s\n",
    "\n",
    "# solve\n",
    "\n",
    "# solving is as simple as\n",
    "M_rec,resid,rank,sing = np.linalg.lstsq(s.T,d.T)\n",
    "M_rec = M_rec.T\n",
    "\n",
    "# you may want to inspect resid (should be small),\n",
    "# rank (should be 4) and sing (shouldn't spread too wide)\n",
    "\n",
    "# check\n",
    "\n",
    "np.allclose(M,M_rec)\n",
    "# True\n",
    "print(M)\n",
    "print(s)\n",
    "print(d)"
   ]
  },
  {
   "cell_type": "code",
   "execution_count": 25,
   "metadata": {},
   "outputs": [
    {
     "name": "stdout",
     "output_type": "stream",
     "text": [
      "[[1 2]\n",
      " [0 0]\n",
      " [0 0]\n",
      " [1 1]]\n",
      "[[1. 2.]\n",
      " [0. 0.]\n",
      " [0. 0.]\n",
      " [1. 1.]]\n"
     ]
    },
    {
     "name": "stderr",
     "output_type": "stream",
     "text": [
      "/tmp/ipykernel_107867/3305001822.py:4: FutureWarning: `rcond` parameter will change to the default of machine precision times ``max(M, N)`` where M and N are the input matrix dimensions.\n",
      "To use the future default and silence this warning we advise to pass `rcond=None`, to keep using the old, explicitly pass `rcond=-1`.\n",
      "  m_rec, resid, rank, sing = np.linalg.lstsq(q_m.T, q.T)\n"
     ]
    }
   ],
   "source": [
    "q = np.r_[[[1, 2]], [[0, 0]], [[0, 0]], [[1, 1]]]\n",
    "q_m = np.r_[[[0, 0]], [[0, 0]], [[0, 1]], [[1, 1]]]\n",
    "\n",
    "m_rec, resid, rank, sing = np.linalg.lstsq(q_m.T, q.T)\n",
    "m_rec = m_rec.T\n",
    "\n",
    "test1 = m_rec @ q_m\n",
    "\n",
    "print(q)\n",
    "\n",
    "print(test1)"
   ]
  }
 ],
 "metadata": {
  "kernelspec": {
   "display_name": "Python 3.10.6 64-bit",
   "language": "python",
   "name": "python3"
  },
  "language_info": {
   "codemirror_mode": {
    "name": "ipython",
    "version": 3
   },
   "file_extension": ".py",
   "mimetype": "text/x-python",
   "name": "python",
   "nbconvert_exporter": "python",
   "pygments_lexer": "ipython3",
   "version": "3.10.6"
  },
  "orig_nbformat": 4,
  "vscode": {
   "interpreter": {
    "hash": "916dbcbb3f70747c44a77c7bcd40155683ae19c65e1c03b4aa3499c5328201f1"
   }
  }
 },
 "nbformat": 4,
 "nbformat_minor": 2
}
