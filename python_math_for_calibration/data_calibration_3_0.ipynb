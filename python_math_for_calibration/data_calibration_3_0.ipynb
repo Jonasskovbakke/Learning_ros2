{
 "cells": [
  {
   "cell_type": "code",
   "execution_count": 2,
   "metadata": {},
   "outputs": [],
   "source": [
    "# Import libraries\n",
    "\n",
    "import os\n",
    "import numpy as np"
   ]
  },
  {
   "cell_type": "code",
   "execution_count": 3,
   "metadata": {},
   "outputs": [],
   "source": [
    "# Load file names\n",
    "\n",
    "calib_folder = \"CalibFiles\"\n",
    "folder_path = os.path.join(os.getcwd(), calib_folder)\n",
    "files_in_folder = os.listdir(folder_path)"
   ]
  },
  {
   "cell_type": "code",
   "execution_count": 4,
   "metadata": {},
   "outputs": [],
   "source": [
    "# Load files into categories\n",
    "\n",
    "x_files, y_files, zx_files, zy_files = [], [], [], []\n",
    "\n",
    "data_lists = [x_files, y_files, zx_files, zy_files]\n",
    "filenames = [\"xmatrix\", \"ymatrix\", \"zxmatrix\", \"zymatrix\"]\n",
    "\n",
    "file_conf = zip(data_lists, filenames)"
   ]
  },
  {
   "cell_type": "code",
   "execution_count": 5,
   "metadata": {},
   "outputs": [
    {
     "name": "stdout",
     "output_type": "stream",
     "text": [
      "[['xmatrix1.txt', 'xmatrix10.txt', 'xmatrix2.txt', 'xmatrix3.txt', 'xmatrix4.txt', 'xmatrix5.txt', 'xmatrix6.txt', 'xmatrix7.txt', 'xmatrix8.txt', 'xmatrix9.txt'], ['ymatrix1.txt', 'ymatrix10.txt', 'ymatrix2.txt', 'ymatrix3.txt', 'ymatrix4.txt', 'ymatrix5.txt', 'ymatrix6.txt', 'ymatrix7.txt', 'ymatrix8.txt', 'ymatrix9.txt'], ['zxmatrix1.txt', 'zxmatrix10.txt', 'zxmatrix2.txt', 'zxmatrix3.txt', 'zxmatrix4.txt', 'zxmatrix5.txt', 'zxmatrix6.txt', 'zxmatrix7.txt', 'zxmatrix8.txt', 'zxmatrix9.txt'], ['zymatrix1.txt', 'zymatrix10.txt', 'zymatrix2.txt', 'zymatrix3.txt', 'zymatrix4.txt', 'zymatrix5.txt', 'zymatrix6.txt', 'zymatrix7.txt', 'zymatrix8.txt', 'zymatrix9.txt']]\n"
     ]
    }
   ],
   "source": [
    "# insert files into categories\n",
    "\n",
    "for data, filename in file_conf:\n",
    "    for file in files_in_folder:\n",
    "        if file.startswith(filename):\n",
    "            data.append(file)\n",
    "    data.sort()\n",
    "\n",
    "print(data_lists)"
   ]
  },
  {
   "cell_type": "code",
   "execution_count": 65,
   "metadata": {},
   "outputs": [
    {
     "name": "stdout",
     "output_type": "stream",
     "text": [
      "[]\n",
      "['xmatrix1.txt', 'xmatrix10.txt', 'xmatrix2.txt', 'xmatrix3.txt', 'xmatrix4.txt', 'xmatrix5.txt', 'xmatrix6.txt', 'xmatrix7.txt', 'xmatrix8.txt', 'xmatrix9.txt']\n",
      "xmatrix1.txt\n",
      "xmatrix10.txt\n",
      "xmatrix2.txt\n",
      "xmatrix3.txt\n",
      "xmatrix4.txt\n",
      "xmatrix5.txt\n",
      "xmatrix6.txt\n",
      "xmatrix7.txt\n",
      "xmatrix8.txt\n",
      "xmatrix9.txt\n",
      "[1. 1. 1. 1. 1. 1. 1. 1. 1. 1.]\n",
      "[1. 1. 1. 1. 1. 1. 1. 1. 1. 1.]\n",
      "[]\n",
      "['ymatrix1.txt', 'ymatrix10.txt', 'ymatrix2.txt', 'ymatrix3.txt', 'ymatrix4.txt', 'ymatrix5.txt', 'ymatrix6.txt', 'ymatrix7.txt', 'ymatrix8.txt', 'ymatrix9.txt']\n",
      "ymatrix1.txt\n",
      "ymatrix10.txt\n",
      "ymatrix2.txt\n",
      "ymatrix3.txt\n",
      "ymatrix4.txt\n",
      "ymatrix5.txt\n",
      "ymatrix6.txt\n",
      "ymatrix7.txt\n",
      "ymatrix8.txt\n",
      "ymatrix9.txt\n",
      "[1. 1. 1. 1. 1. 1. 1. 1. 1. 1.]\n",
      "[1. 1. 1. 1. 1. 1. 1. 1. 1. 1.]\n",
      "[]\n",
      "['zxmatrix1.txt', 'zxmatrix10.txt', 'zxmatrix2.txt', 'zxmatrix3.txt', 'zxmatrix4.txt', 'zxmatrix5.txt', 'zxmatrix6.txt', 'zxmatrix7.txt', 'zxmatrix8.txt', 'zxmatrix9.txt']\n",
      "zxmatrix1.txt\n",
      "zxmatrix10.txt\n",
      "zxmatrix2.txt\n",
      "zxmatrix3.txt\n",
      "zxmatrix4.txt\n",
      "zxmatrix5.txt\n",
      "zxmatrix6.txt\n",
      "zxmatrix7.txt\n",
      "zxmatrix8.txt\n",
      "zxmatrix9.txt\n",
      "[1. 1. 1. 1. 1. 1. 1. 1. 1. 1.]\n",
      "[1. 1. 1. 1. 1. 1. 1. 1. 1. 1.]\n",
      "[]\n",
      "['zymatrix1.txt', 'zymatrix10.txt', 'zymatrix2.txt', 'zymatrix3.txt', 'zymatrix4.txt', 'zymatrix5.txt', 'zymatrix6.txt', 'zymatrix7.txt', 'zymatrix8.txt', 'zymatrix9.txt']\n",
      "zymatrix1.txt\n",
      "zymatrix10.txt\n",
      "zymatrix2.txt\n",
      "zymatrix3.txt\n",
      "zymatrix4.txt\n",
      "zymatrix5.txt\n",
      "zymatrix6.txt\n",
      "zymatrix7.txt\n",
      "zymatrix8.txt\n",
      "zymatrix9.txt\n",
      "[1. 1. 1. 1. 1. 1. 1. 1. 1. 1.]\n",
      "[1. 1. 1. 1. 1. 1. 1. 1. 1. 1.]\n",
      "[array([], dtype=float64), array([], dtype=float64), array([], dtype=float64), array([], dtype=float64)]\n"
     ]
    },
    {
     "data": {
      "text/plain": [
       "' for dat, datlist in data_config:\\n    print(dat.size)\\n    for i in range(len(datlist)):\\n        placeholder = np.loadtxt(os.path.join(calib_folder, datlist[i]), delimiter=\",\")\\n        placeholder = placeholder.flatten()\\n        dat = np.append(dat, placeholder, axis=0)\\n    print(dat.size)\\n\\nprint(dat.shape) '"
      ]
     },
     "execution_count": 65,
     "metadata": {},
     "output_type": "execute_result"
    }
   ],
   "source": [
    "# load data from files\n",
    "\n",
    "x_data, y_data, zx_data, zy_data = np.empty(([0])), np.empty(([0])), np.empty(([0])), np.empty(([0]))\n",
    "\n",
    "data = [x_data, y_data, zx_data, zy_data]\n",
    "\n",
    "data_config = zip(data, data_lists)\n",
    "\n",
    "\n",
    "for dat, datlist in data_config:\n",
    "    print(dat)\n",
    "    print(datlist)\n",
    "    placeholder = np.empty(([0]))\n",
    "    for name in datlist:\n",
    "        print(name)\n",
    "        placeholder = np.append(placeholder, np.array([1]))\n",
    "\n",
    "    print(placeholder)\n",
    "    dat = placeholder\n",
    "    print(dat)\n",
    "print(data)\n",
    "\n",
    "\n",
    "\"\"\" for dat, datlist in data_config:\n",
    "    print(dat.size)\n",
    "    for i in range(len(datlist)):\n",
    "        placeholder = np.loadtxt(os.path.join(calib_folder, datlist[i]), delimiter=\",\")\n",
    "        placeholder = placeholder.flatten()\n",
    "        dat = np.append(dat, placeholder, axis=0)\n",
    "    print(dat.size)\n",
    "\n",
    "print(dat.shape) \"\"\"\n",
    "\n",
    "\n"
   ]
  }
 ],
 "metadata": {
  "kernelspec": {
   "display_name": "Python 3.10.6 64-bit",
   "language": "python",
   "name": "python3"
  },
  "language_info": {
   "codemirror_mode": {
    "name": "ipython",
    "version": 3
   },
   "file_extension": ".py",
   "mimetype": "text/x-python",
   "name": "python",
   "nbconvert_exporter": "python",
   "pygments_lexer": "ipython3",
   "version": "3.10.6"
  },
  "orig_nbformat": 4,
  "vscode": {
   "interpreter": {
    "hash": "916dbcbb3f70747c44a77c7bcd40155683ae19c65e1c03b4aa3499c5328201f1"
   }
  }
 },
 "nbformat": 4,
 "nbformat_minor": 2
}
